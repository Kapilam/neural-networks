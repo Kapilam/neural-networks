{
 "cells": [
  {
   "cell_type": "code",
   "execution_count": 18,
   "metadata": {},
   "outputs": [
    {
     "name": "stdout",
     "output_type": "stream",
     "text": [
      "0\n",
      "0.5\n"
     ]
    }
   ],
   "source": [
    "import math\n",
    "x1 = 1\n",
    "x2 = 1\n",
    "# calculate score\n",
    "score = 4*x1 + 5*x2-9\n",
    "print(score)\n",
    "\n",
    "# sgmoid function\n",
    "def sigmoide(x):\n",
    "    y = 1/(1+math.exp(-x) )\n",
    "    return y\n",
    "\n",
    "# apply sigmoide function to calculate probability\n",
    "\n",
    "print(sigmoide(score))\n"
   ]
  },
  {
   "cell_type": "code",
   "execution_count": null,
   "metadata": {},
   "outputs": [],
   "source": []
  }
 ],
 "metadata": {
  "kernelspec": {
   "display_name": "Python 3",
   "language": "python",
   "name": "python3"
  },
  "language_info": {
   "codemirror_mode": {
    "name": "ipython",
    "version": 3
   },
   "file_extension": ".py",
   "mimetype": "text/x-python",
   "name": "python",
   "nbconvert_exporter": "python",
   "pygments_lexer": "ipython3",
   "version": "3.6.4"
  }
 },
 "nbformat": 4,
 "nbformat_minor": 2
}
